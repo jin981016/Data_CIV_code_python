{
 "cells": [
  {
   "cell_type": "code",
   "execution_count": 7,
   "metadata": {},
   "outputs": [],
   "source": [
    "import numpy as np                                                                        \n",
    "import matplotlib.pyplot as plt\n",
    "import pyCloudy as pc\n",
    "import pyneb as pn\n",
    "from astropy    import constants as const\n",
    "from astropy.io import ascii\n",
    "import pandas as pd\n",
    "\n",
    "# from scipy.integrate import simps\n",
    "from numpy import log10, exp\n",
    "\n",
    "kpc = const.kpc.cgs.value\n",
    "\n",
    "atom = ['Lya','HeII','CIV']\n",
    "\n",
    "def read_file(path_way, atom):\n",
    "    Mod = pc.CloudyModel(path_way, cloudy_version_major=23)\n",
    "    Mod.ionic_names\n",
    "\n",
    "    N_H = sum(Mod.dr*Mod.nH)\n",
    "    frac_He = 1.0E-01\n",
    "    frac_C = 2.45E-04\n",
    "    frac_O = 4.90E-04\n",
    "    frac_N = 8.51E-05\n",
    "    frac_Mg = 3.47E-05\n",
    "\n",
    "    N_HI = sum(Mod.dr*Mod.nH*Mod.get_ionic('H',0))\n",
    "    N_HII = sum(Mod.dr*Mod.nH*Mod.get_ionic('H',1))\n",
    "    N_HeII = frac_He*sum(Mod.dr*Mod.nH*Mod.get_ionic('He',1))\n",
    "    N_OVI = frac_O*sum(Mod.dr*Mod.nH*Mod.get_ionic('O',5))\n",
    "    N_NV = frac_N*sum(Mod.dr*Mod.nH*Mod.get_ionic('N',4))\n",
    "    N_CIV = frac_C*sum(Mod.dr*Mod.nH*Mod.get_ionic('C',3))\n",
    "\n",
    "    num = len(Mod.nH)\n",
    "    r_CIV = path_way +  '.ele_C'\n",
    "    f = open(r_CIV,'r')\n",
    "    header = f.readline()\n",
    "    CIV_frac = np.zeros(num)\n",
    "    i = 0\n",
    "    for line in f:\n",
    "        line = line.strip()\n",
    "        columns = line.split()\n",
    "        j = float(columns[4])\n",
    "        CIV_frac[i] = j\n",
    "        i = i + 1\n",
    "\n",
    "    r_He = path_way +  '.ele_He'\n",
    "    f = open(r_He,'r')\n",
    "    header = f.readline()\n",
    "    HeII_frac = np.zeros(num)\n",
    "    i = 0\n",
    "    for line in f:\n",
    "        line = line.strip()\n",
    "        columns = line.split()\n",
    "        j = float(columns[2])\n",
    "        HeII_frac[i] = j\n",
    "        i = i + 1\n",
    "\n",
    "\n",
    "\n",
    "    n_H= Mod.nH\n",
    "    n_He = n_H*frac_He\n",
    "    n_C = n_H*frac_C\n",
    "    nden_CIV = CIV_frac*n_C\n",
    "    nden_HeII = HeII_frac*n_He\n",
    "\n",
    "\n",
    "\n",
    "    if atom == 'CIV':\n",
    "        Cloudy_Lum = float(Mod.get_emis_vol('C__4_154819A')) + float(Mod.get_emis_vol('C__4_155078A'))\n",
    "        Cloudy_emis = (Mod.get_emis('C__4_154819A')) + (Mod.get_emis('C__4_155078A'))\n",
    "        Cloudy_den = nden_CIV\n",
    "    elif atom == 'Lya':\n",
    "        Cloudy_Lum= float(Mod.get_emis_vol('H__1_121567A'))\n",
    "        Cloudy_emis = Mod.get_emis('H__1_121567A')\n",
    "        Cloudy_den = n_H\n",
    "    elif atom == 'HeII':\n",
    "        Cloudy_Lum = float(Mod.get_emis_vol('HE_2_164043A'))\n",
    "        Cloudy_emis = Mod.get_emis('HE_2_164043A')\n",
    "        Cloudy_den = nden_HeII\n",
    "    return Cloudy_Lum , Cloudy_emis ,Cloudy_den\n",
    "\n",
    "def radius_dr(path, atom):\n",
    "    Mod = pc.CloudyModel(path, cloudy_version_major=23)\n",
    "    radius = Mod.radius/kpc\n",
    "    radius_kpc =Mod.radius \n",
    "    dr = Mod.dr \n",
    "    return radius, radius_kpc, dr\n",
    "\n",
    "def make_data_file(path,atom):\n",
    "    lum ,emis ,den = read_file(path,atom)\n",
    "    radius , radius_kpc, dr =  radius_dr(path,atom)\n",
    "    tt =  pd.DataFrame(np.column_stack((radius,emis,den)))\n",
    "    tt.to_csv('/home/jin/Data_CIV_code_python/CIV_cloudy.txt', sep='\\t',index=False,header =False)\n",
    "    tt.to_csv('/home/jin/RT_code/CIV_cloudy.txt', sep='\\t',index = False,header=False)\n",
    "    return print(\"make data file!\")\n",
    "\n",
    "def SB(radius_kpc, emissivity , dr):\n",
    "    surface_brightness = np.zeros(len(radius_kpc))\n",
    "    Lumin = np.zeros(len(radius_kpc))\n",
    "    for ii, bb in enumerate(radius_kpc):\n",
    "        r_surface_brightness = 0\n",
    "        array_R = np.where(radius_kpc >= bb)[0]\n",
    "        for dR in (array_R):\n",
    "            r_surface_brightness += emissivity[dR] * dr[dR]\n",
    "        surface_brightness[ii] = 2*r_surface_brightness\n",
    "        Lumin[ii] = 2*np.pi * bb* surface_brightness[ii] * dr[ii]\n",
    "    return surface_brightness , Lumin\n",
    "\n",
    "\n",
    "# def SB(radius_kpc, emissivity , dr):\n",
    "#     surface_brightness = np.zeros(len(radius_kpc))\n",
    "#     Lumin = np.zeros(len(radius_kpc))\n",
    "#     for ii, bb in enumerate(radius_kpc):\n",
    "#         r_surface_brightness = 0\n",
    "#         array_R = np.where(radius_kpc >= bb)[0]\n",
    "#         for dR in (array_R[:-1]):\n",
    "#             dx = radius_kpc[dR+1] - radius_kpc[dR] \n",
    "#             r_surface_brightness += emissivity[dR] * dx\n",
    "#         surface_brightness[ii] = 2*r_surface_brightness\n",
    "#         Lumin[ii] = 2*np.pi * bb* surface_brightness[ii] * dr[ii]\n",
    "#     return surface_brightness , Lumin\n",
    "\n",
    "def RT_SB(path):\n",
    "    name = ['radius','SB_K','SB_H','SB_tot','1','2','3']\n",
    "    data_sp = pd.read_csv(path, sep='\\s+', header=None,names=name)\n",
    "    rad, SB_t, SB_k,SB_h =  data_sp['radius'].to_numpy(),data_sp['SB_tot'].to_numpy(),data_sp['SB_K'].to_numpy(),data_sp['SB_H'].to_numpy()\n",
    "    return rad/kpc, rad, SB_t "
   ]
  },
  {
   "cell_type": "code",
   "execution_count": 8,
   "metadata": {},
   "outputs": [],
   "source": [
    "#Window_path\n",
    "path_or = r'/home/jin/Data_CIV_code_python/Origin/CIV_Lumin_42' # Ryd =1 or 4 # no OTS , LT \n",
    "path_n = r'/home/jin/Data_CIV_code_python/OTS_y_LT_n/CIV_Lumin_42' # OTS , no LT\n",
    "path_y = r'/home/jin/Data_CIV_code_python/OTS_y_LT_y/CIV_Lumin_42' # OTS , yes LT\n",
    "path_LT = r'/home/jin/Data_CIV_code_python/OTS_n_LT_y/CIV_Lumin_42' # no OTS , yes LT"
   ]
  },
  {
   "cell_type": "code",
   "execution_count": 9,
   "metadata": {},
   "outputs": [],
   "source": [
    "# #Ubuntu_path\n",
    "# path_or = r'/home/jin/T_Cloudy/Origin/CIV_Lumin_42' # Ryd =1 or 4 # no OTS , LT \n",
    "# path_n = r'/home/jin/T_Cloudy/OTS_y_LT_n/CIV_Lumin_42' # OTS , no LT\n",
    "# path_y = r'/home/jin/T_Cloudy/OTS_y_LT_y/CIV_Lumin_42' # OTS , yes LT\n",
    "# path_LT = r'/home/jin/T_Cloudy/OTS_n_LT_y/CIV_Lumin_42' # no OTS , yes LT"
   ]
  },
  {
   "cell_type": "code",
   "execution_count": 10,
   "metadata": {},
   "outputs": [],
   "source": [
    "atom_N = 'CIV' \n",
    "\n",
    "radius_or , radius_kpc_or, dr_or = radius_dr(path_or,atom_N)\n",
    "radius_n, radius_kpc_n, dr_n = radius_dr(path_n,atom_N)\n",
    "radius_y, radius_kpc_y, dr_y = radius_dr(path_y,atom_N)\n",
    "radius_LT, radius_kpc_LT, dr_LT = radius_dr(path_LT,atom_N)\n",
    "\n",
    "lum_civ_or, emis_civ_or , den_civ_or = read_file(path_or,atom_N)\n",
    "lum_civ_n, emis_civ_n , den_civ_n = read_file(path_n,atom_N)\n",
    "lum_civ_y, emis_civ_y , den_civ_y = read_file(path_y,atom_N)\n",
    "lum_civ_LT, emis_civ_LT , den_civ_LT = read_file(path_LT,atom_N)\n",
    "#  atom = ['Lya','HeII','CIV']\n",
    "\n",
    "#Make data_file\n",
    "# make_data_file(path_LT,atom_N)\n",
    "\n",
    "SB_or , Lumin_or = SB(radius_kpc_or,emis_civ_or,dr_or)\n",
    "SB_n , Lumin_n= SB(radius_kpc_n, emis_civ_n,dr_n)\n",
    "SB_y , Lumin_y = SB(radius_kpc_y, emis_civ_y,dr_y)\n",
    "SB_LT , Lumin_LT = SB(radius_kpc_LT, emis_civ_LT,dr_LT)\n"
   ]
  },
  {
   "cell_type": "code",
   "execution_count": 11,
   "metadata": {},
   "outputs": [],
   "source": [
    "#Window_path_RT\n",
    "RT_path_or =r'/home/jin/Data_CIV_code_python/Origin/data_RT_ryd_4/N_atom100E+00_Vexp000E+00_Vemit100E+00_tauD000E+00_Vran118E+01radi.dat'\n",
    "RT_path_n =r'/home/jin/Data_CIV_code_python/OTS_y_LT_n/data_RT/N_atom100E+00_Vexp000E+00_Vemit100E+00_tauD000E+00_Vran118E+01radi.dat'\n",
    "RT_path_y =r'/home/jin/Data_CIV_code_python/OTS_y_LT_y/data_RT/N_atom100E+00_Vexp000E+00_Vemit100E+00_tauD000E+00_Vran118E+01radi.dat'\n",
    "RT_path_LT =r'/home/jin/Data_CIV_code_python/OTS_n_LT_y/data_RT/N_atom100E+00_Vexp000E+00_Vemit100E+00_tauD000E+00_Vran118E+01radi.dat'"
   ]
  },
  {
   "cell_type": "code",
   "execution_count": 12,
   "metadata": {},
   "outputs": [],
   "source": [
    "# #Ubuntu_path_RT\n",
    "\n",
    "# RT_path_or =r'/home/jin/T_Cloudy/Origin/data_RT_ryd_4/N_atom100E+00_Vexp000E+00_Vemit100E+00_tauD000E+00_Vran118E+01radi.dat'\n",
    "# RT_path_n =r'/home/jin/T_Cloudy/OTS_y_LT_n/data_RT/N_atom100E+00_Vexp000E+00_Vemit100E+00_tauD000E+00_Vran118E+01radi.dat'\n",
    "# RT_path_y =r'/home/jin/T_Cloudy/OTS_y_LT_y/data_RT/N_atom100E+00_Vexp000E+00_Vemit100E+00_tauD000E+00_Vran118E+01radi.dat'\n",
    "# RT_path_LT =r'/home/jin/T_Cloudy/OTS_n_LT_y/data_RT/N_atom100E+00_Vexp000E+00_Vemit100E+00_tauD000E+00_Vran118E+01radi.dat'\n"
   ]
  },
  {
   "cell_type": "code",
   "execution_count": 13,
   "metadata": {},
   "outputs": [],
   "source": [
    "rad_or, rad_or_kpc, SB_or_t = RT_SB(RT_path_or)\n",
    "rad_n, rad_n_kpc, SB_n_t = RT_SB(RT_path_n)\n",
    "rad_y, rad_y_kpc, SB_y_t = RT_SB(RT_path_y)\n",
    "rad_LT, rad_LT_kpc, SB_LT_t = RT_SB(RT_path_LT)\n",
    "\n",
    "ii = np.where(rad_n >= 1)[0]\n",
    "rad_n_tt = rad_n[ii]\n",
    "SB_n_tt = SB_n_t[ii]\n",
    "\n",
    "ii = np.where(rad_y >= 1)[0]\n",
    "rad_y_tt = rad_y[ii]\n",
    "SB_y_tt = SB_y_t[ii]\n",
    "\n",
    "\n",
    "ii = np.where(rad_or >= 1)[0]\n",
    "rad_or_tt = rad_or[ii]\n",
    "SB_or_tt = SB_or_t[ii]\n"
   ]
  },
  {
   "cell_type": "code",
   "execution_count": 14,
   "metadata": {},
   "outputs": [
    {
     "name": "stdout",
     "output_type": "stream",
     "text": [
      "9.326018989464432e+39 2.007518316622374e+40\n",
      "1.0749164176759307e+40\n"
     ]
    }
   ],
   "source": [
    "print( np.sum(Lumin_or) ,lum_civ_or)\n",
    "print( abs(np.sum(Lumin_or) - lum_civ_or))"
   ]
  },
  {
   "cell_type": "code",
   "execution_count": 15,
   "metadata": {},
   "outputs": [
    {
     "data": {
      "text/plain": [
       "<matplotlib.legend.Legend at 0x7f734afd5710>"
      ]
     },
     "execution_count": 15,
     "metadata": {},
     "output_type": "execute_result"
    },
    {
     "data": {
      "image/png": "[encoded data removed]",
      "text/plain": [
       "<Figure size 700x700 with 1 Axes>"
      ]
     },
     "metadata": {},
     "output_type": "display_data"
    }
   ],
   "source": [
    "fig = plt.figure(1, figsize= (7,7))\n",
    "plt.plot(radius_n, SB_n/1e10,'r-',label='Cloudy')\n",
    "plt.plot(rad_n_tt, SB_n_tt,'go',label='RT_Origin')\n",
    "# plt.plot(rad_n_tt/kpc, SB_n_tt,'b',label='RT_LT_n')\n",
    "# plt.plot(rad_y_tt/kpc, SB_y_tt,'k',label='RT_LT_y')\n",
    "\n",
    "\n",
    "plt.xlabel('Radius [kpc]',fontsize=15)\n",
    "plt.ylabel('Surface Brightness',fontsize = 15)\n",
    "plt.yscale('log')\n",
    "plt.xlim(0.5,20)\n",
    "# plt.ylim(10**(-19),10**(-13))\n",
    "plt.legend()"
   ]
  }
 ],
 "metadata": {
  "kernelspec": {
   "display_name": "base",
   "language": "python",
   "name": "python3"
  },
  "language_info": {
   "codemirror_mode": {
    "name": "ipython",
    "version": 3
   },
   "file_extension": ".py",
   "mimetype": "text/x-python",
   "name": "python",
   "nbconvert_exporter": "python",
   "pygments_lexer": "ipython3",
   "version": "3.11.5"
  }
 },
 "nbformat": 4,
 "nbformat_minor": 2
}
