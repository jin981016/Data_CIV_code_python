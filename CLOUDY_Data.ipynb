{
 "cells": [
  {
   "cell_type": "code",
   "execution_count": 155,
   "metadata": {},
   "outputs": [],
   "source": [
    "import numpy as np                                                                        \n",
    "import matplotlib.pyplot as plt\n",
    "import pyCloudy as pc\n",
    "import pyneb as pn\n",
    "from astropy    import constants as const\n",
    "from astropy.io import ascii\n",
    "import pandas as pd\n",
    "\n",
    "# from scipy.integrate import simps\n",
    "from numpy import log10, exp\n",
    "\n",
    "kpc = const.kpc.cgs.value\n",
    "\n",
    "atom = ['Lya','HeII','CIV']\n",
    "\n",
    "def read_file(path_way, atom):\n",
    "    Mod = pc.CloudyModel(path_way, cloudy_version_major=23)\n",
    "    Mod.ionic_names\n",
    "\n",
    "    N_H = sum(Mod.dr*Mod.nH)\n",
    "    # solar_metallicitiy from von Steiger et al. 2016\n",
    "    frac_He = 1.0E-01\n",
    "    frac_C = 4.47E-04\n",
    "    frac_O = 6.61E-04\n",
    "    frac_N = 9.33E-05\n",
    "    frac_Mg = 7.08E-05\n",
    "\n",
    "    N_HI = sum(Mod.dr*Mod.nH*Mod.get_ionic('H',0))\n",
    "    N_HII = sum(Mod.dr*Mod.nH*Mod.get_ionic('H',1))\n",
    "    N_HeII = frac_He*sum(Mod.dr*Mod.nH*Mod.get_ionic('He',1))\n",
    "    N_OVI = frac_O*sum(Mod.dr*Mod.nH*Mod.get_ionic('O',5))\n",
    "    N_NV = frac_N*sum(Mod.dr*Mod.nH*Mod.get_ionic('N',4))\n",
    "    N_CIV = frac_C*sum(Mod.dr*Mod.nH*Mod.get_ionic('C',3))\n",
    "\n",
    "    num = len(Mod.nH)\n",
    "    r_CIV = path_way +  '.ele_C'\n",
    "    f = open(r_CIV,'r')\n",
    "    header = f.readline()\n",
    "    CIV_frac = np.zeros(num)\n",
    "    i = 0\n",
    "    for line in f:\n",
    "        line = line.strip()\n",
    "        columns = line.split()\n",
    "        j = float(columns[4])\n",
    "        CIV_frac[i] = j\n",
    "        i = i + 1\n",
    "\n",
    "    r_He = path_way +  '.ele_He'\n",
    "    f = open(r_He,'r')\n",
    "    header = f.readline()\n",
    "    HeII_frac = np.zeros(num)\n",
    "    i = 0\n",
    "    for line in f:\n",
    "        line = line.strip()\n",
    "        columns = line.split()\n",
    "        j = float(columns[2])\n",
    "        HeII_frac[i] = j\n",
    "        i = i + 1\n",
    "\n",
    "\n",
    "\n",
    "    n_H= Mod.nH\n",
    "    n_He = n_H*frac_He\n",
    "    n_C = n_H*frac_C\n",
    "    nden_CIV = CIV_frac*n_C\n",
    "    nden_HeII = HeII_frac*n_He\n",
    "\n",
    "    # tt = nden_CIV / n_H\n",
    "    # print(tt.mean())\n",
    "\n",
    "    if atom == 'CIV':\n",
    "        Cloudy_Lum = float(Mod.get_emis_vol('C__4_154819A')) + float(Mod.get_emis_vol('C__4_155078A'))\n",
    "        Cloudy_emis = (Mod.get_emis('C__4_154819A')) + (Mod.get_emis('C__4_155078A'))\n",
    "        Cloudy_den = nden_CIV\n",
    "    elif atom == 'Lya':\n",
    "        Cloudy_Lum= float(Mod.get_emis_vol('H__1_121567A'))\n",
    "        Cloudy_emis = Mod.get_emis('H__1_121567A')\n",
    "        Cloudy_den = n_H\n",
    "    elif atom == 'HeII':\n",
    "        Cloudy_Lum = float(Mod.get_emis_vol('HE_2_164043A'))\n",
    "        Cloudy_emis = Mod.get_emis('HE_2_164043A')\n",
    "        Cloudy_den = nden_HeII\n",
    "    return Cloudy_Lum , Cloudy_emis ,Cloudy_den\n",
    "\n",
    "def radius_dr(path, atom):\n",
    "    Mod = pc.CloudyModel(path, cloudy_version_major=23)\n",
    "    radius = Mod.radius/kpc\n",
    "    radius_kpc =Mod.radius \n",
    "    dr = Mod.dr \n",
    "    return radius, radius_kpc, dr\n",
    "\n",
    "def make_data_file(path,atom):\n",
    "    lum ,emis ,den = read_file(path,atom)\n",
    "    radius , radius_kpc, dr =  radius_dr(path,atom)\n",
    "    tt =  pd.DataFrame(np.column_stack((radius,emis,den)))\n",
    "    tt.to_csv('/home/jin/Data_CIV_code_python/CIV_cloudy.txt', sep='\\t',index=False,header =False)\n",
    "    tt.to_csv('/home/jin/RT_code/CIV_cloudy.txt', sep='\\t',index = False,header=False)\n",
    "    return print(\"make data file!\")\n",
    "\n",
    "def SB(R_project,radius_kpc, emissivity , dr):\n",
    "    R_projection = np.copy(R_project)\n",
    "    surface_brightness = np.zeros(len(R_project))\n",
    "    Lumin = np.zeros(len(R_project))\n",
    "    T_Lumin = np.zeros(len(R_project))\n",
    "    \n",
    "    for ii, bb in enumerate(R_projection[:-1]):\n",
    "        array_R = np.where(radius_kpc >= bb)[0]\n",
    "        r_surface_brightness = 0\n",
    "        for dR in (array_R):\n",
    "            r_surface_brightness += emissivity[dR] * dr[dR]\n",
    "        surface_brightness[ii] = 2*r_surface_brightness\n",
    "        dR_pro = R_projection[ii+1] - R_projection[ii] \n",
    "        Lumin[ii] = 4*np.pi*bb*surface_brightness[ii] * dR_pro\n",
    "\n",
    "    return R_projection, surface_brightness, Lumin\n",
    "\n",
    "def Total_Luminosity(radius_kpc, emissivity , dr):\n",
    "    T_Lumin = np.zeros(len(radius_kpc))\n",
    "    for ii, bb in enumerate(radius_kpc):\n",
    "        T_Lumin[ii] = 4 * np.pi * bb**2 *emissivity[ii] * dr[ii]\n",
    "    return T_Lumin\n",
    "\n",
    "\n",
    "def RT_SB(path):\n",
    "    name = ['radius','SB_K','SB_H','SB_tot','1','2','3']\n",
    "    data_sp = pd.read_csv(path, sep='\\s+', header=None,names=name)\n",
    "    rad, SB_t, SB_k,SB_h =  data_sp['radius'].to_numpy(),data_sp['SB_tot'].to_numpy(),data_sp['SB_K'].to_numpy(),data_sp['SB_H'].to_numpy()\n",
    "    return rad/kpc, rad, SB_t \n",
    "\n",
    "def find_y(x_find,x,y):\n",
    "    ii = int(np.where(x <= x_find)[0][-1])\n",
    "    # print(ii)\n",
    "    y_find = (y[ii+1] -y[ii]) / (x[ii+1] - x[ii])*(x_find - x[ii]) + y[ii]\n",
    "    return y_find"
   ]
  },
  {
   "cell_type": "code",
   "execution_count": 156,
   "metadata": {},
   "outputs": [],
   "source": [
    "#Window_path\n",
    "path_or = r'/home/jin/Data_CIV_code_python/Origin/CIV_Lumin_42' # Ryd =1 or 4 # no OTS , LT \n",
    "path_n = r'/home/jin/Data_CIV_code_python/OTS_y_LT_n/CIV_Lumin_42' # OTS , no LT\n",
    "path_y = r'/home/jin/Data_CIV_code_python/OTS_y_LT_y/CIV_Lumin_42' # OTS , yes LT\n",
    "path_LT = r'/home/jin/Data_CIV_code_python/OTS_n_LT_y/CIV_Lumin_42' # no OTS , yes LT"
   ]
  },
  {
   "cell_type": "code",
   "execution_count": 157,
   "metadata": {},
   "outputs": [],
   "source": [
    "# #Ubuntu_path\n",
    "# path_or = r'/home/jin/T_Cloudy/Origin/CIV_Lumin_42' # Ryd =1 or 4 # no OTS , LT \n",
    "# path_n = r'/home/jin/T_Cloudy/OTS_y_LT_n/CIV_Lumin_42' # OTS , no LT\n",
    "# path_y = r'/home/jin/T_Cloudy/OTS_y_LT_y/CIV_Lumin_42' # OTS , yes LT\n",
    "# path_LT = r'/home/jin/T_Cloudy/OTS_n_LT_y/CIV_Lumin_42' # no OTS , yes LT"
   ]
  },
  {
   "cell_type": "code",
   "execution_count": 168,
   "metadata": {},
   "outputs": [],
   "source": [
    "atom_N = 'CIV' \n",
    "\n",
    "radius_or , radius_kpc_or, dr_or = radius_dr(path_or,atom_N)\n",
    "radius_n, radius_kpc_n, dr_n = radius_dr(path_n,atom_N)\n",
    "radius_y, radius_kpc_y, dr_y = radius_dr(path_y,atom_N)\n",
    "radius_LT, radius_kpc_LT, dr_LT = radius_dr(path_LT,atom_N)\n",
    "\n",
    "lum_civ_or, emis_civ_or , den_civ_or = read_file(path_or,atom_N)\n",
    "lum_civ_n, emis_civ_n , den_civ_n = read_file(path_n,atom_N)\n",
    "lum_civ_y, emis_civ_y , den_civ_y = read_file(path_y,atom_N)\n",
    "lum_civ_LT, emis_civ_LT , den_civ_LT = read_file(path_LT,atom_N)\n",
    "#  atom = ['Lya','HeII','CIV']\n",
    "\n",
    "#Make data_file\n",
    "# make_data_file(path_LT,atom_N)\n"
   ]
  },
  {
   "cell_type": "code",
   "execution_count": 173,
   "metadata": {},
   "outputs": [
    {
     "data": {
      "image/png": "[encoded data removed]",
      "text/plain": [
       "<Figure size 640x480 with 1 Axes>"
      ]
     },
     "metadata": {},
     "output_type": "display_data"
    }
   ],
   "source": [
    "plt.plot(radius_LT , emis_civ_LT)\n",
    "plt.yscale('log')"
   ]
  },
  {
   "cell_type": "code",
   "execution_count": 174,
   "metadata": {},
   "outputs": [],
   "source": [
    "#Window_path_RT\n",
    "RT_path_or =r'/home/jin/Data_CIV_code_python/Origin/data_RT_ryd_4/N_atom100E+00_Vexp000E+00_Vemit100E+00_tauD000E+00_Vran118E+01radi.dat'\n",
    "RT_path_n =r'/home/jin/Data_CIV_code_python/OTS_y_LT_n/data_RT/N_atom100E+00_Vexp000E+00_Vemit100E+00_tauD000E+00_Vran118E+01radi.dat'\n",
    "RT_path_y =r'/home/jin/Data_CIV_code_python/OTS_y_LT_y/data_RT/N_atom100E+00_Vexp000E+00_Vemit100E+00_tauD000E+00_Vran118E+01radi.dat'\n",
    "RT_path_LT =r'/home/jin/Data_CIV_code_python/OTS_n_LT_y/data_RT/N_atom100E+00_Vexp000E+00_Vemit100E+00_tauD000E+00_Vran118E+01radi.dat'"
   ]
  },
  {
   "cell_type": "code",
   "execution_count": 160,
   "metadata": {},
   "outputs": [],
   "source": [
    "# #Ubuntu_path_RT\n",
    "\n",
    "# RT_path_or =r'/home/jin/T_Cloudy/Origin/data_RT_ryd_4/N_atom100E+00_Vexp000E+00_Vemit100E+00_tauD000E+00_Vran118E+01radi.dat'\n",
    "# RT_path_n =r'/home/jin/T_Cloudy/OTS_y_LT_n/data_RT/N_atom100E+00_Vexp000E+00_Vemit100E+00_tauD000E+00_Vran118E+01radi.dat'\n",
    "# RT_path_y =r'/home/jin/T_Cloudy/OTS_y_LT_y/data_RT/N_atom100E+00_Vexp000E+00_Vemit100E+00_tauD000E+00_Vran118E+01radi.dat'\n",
    "# RT_path_LT =r'/home/jin/T_Cloudy/OTS_n_LT_y/data_RT/N_atom100E+00_Vexp000E+00_Vemit100E+00_tauD000E+00_Vran118E+01radi.dat'\n"
   ]
  },
  {
   "cell_type": "code",
   "execution_count": 175,
   "metadata": {},
   "outputs": [],
   "source": [
    "rad_or, rad_or_kpc, SB_or_t = RT_SB(RT_path_or)\n",
    "rad_n, rad_n_kpc, SB_n_t = RT_SB(RT_path_n)\n",
    "rad_y, rad_y_kpc, SB_y_t = RT_SB(RT_path_y)\n",
    "rad_LT, rad_LT_kpc, SB_LT_t = RT_SB(RT_path_LT)\n",
    "\n",
    "\n",
    "R_project_or, SB_or , Lumin_or = SB(rad_or_kpc,radius_kpc_or,emis_civ_or,dr_or)\n",
    "R_project_n,SB_n , Lumin_n = SB(rad_n_kpc, radius_kpc_n, emis_civ_n,dr_n)\n",
    "R_project_y, SB_y , Lumin_y  = SB(rad_y_kpc,radius_kpc_y ,emis_civ_y,dr_y)\n",
    "R_project_LT, SB_LT , Lumin_LT = SB(rad_LT_kpc,radius_kpc_LT, emis_civ_LT,dr_LT)\n",
    "\n",
    "T_Lumin_or = Total_Luminosity(radius_kpc_or,emis_civ_or,dr_or)\n",
    "T_Lumin_n = Total_Luminosity(radius_kpc_n,emis_civ_n,dr_n)\n",
    "T_Lumin_y = Total_Luminosity(radius_kpc_y,emis_civ_y,dr_y)\n",
    "T_Lumin_LT = Total_Luminosity(radius_kpc_LT,emis_civ_LT,dr_LT)"
   ]
  },
  {
   "cell_type": "code",
   "execution_count": 177,
   "metadata": {},
   "outputs": [
    {
     "name": "stdout",
     "output_type": "stream",
     "text": [
      "1.1919512254754257e+40 1.1919512254754257e+40 1.1917772537074612e+40\n"
     ]
    }
   ],
   "source": [
    "print(sum(T_Lumin_y), lum_civ_y , sum(Lumin_y))"
   ]
  },
  {
   "cell_type": "code",
   "execution_count": 180,
   "metadata": {},
   "outputs": [
    {
     "name": "stdout",
     "output_type": "stream",
     "text": [
      "0.0\n"
     ]
    },
    {
     "data": {
      "text/plain": [
       "(-0.5, 20.0)"
      ]
     },
     "execution_count": 180,
     "metadata": {},
     "output_type": "execute_result"
    },
    {
     "data": {
      "image/png": "[encoded data removed]",
      "text/plain": [
       "<Figure size 700x700 with 1 Axes>"
      ]
     },
     "metadata": {},
     "output_type": "display_data"
    }
   ],
   "source": [
    "fig = plt.figure(1, figsize= (7,7))\n",
    "\n",
    "normal = SB_n_t[1:].max()\n",
    "plt.plot(rad_n[1:] , SB_n_t[1:] / normal)\n",
    "\n",
    "normal = SB_n[1:].max()\n",
    "plt.plot(R_project_n/kpc, SB_n / normal ,'ro')\n",
    "\n",
    "print((R_project_n/kpc)[0])\n",
    "plt.xlabel('Radius [kpc]',fontsize=15)\n",
    "plt.ylabel('Surface Brightness',fontsize = 15)\n",
    "plt.yscale('log')\n",
    "plt.xlim(-0.5,20)\n",
    "# plt.ylim(10**(-19),10**(-13))\n",
    "# plt.legend()"
   ]
  }
 ],
 "metadata": {
  "kernelspec": {
   "display_name": "base",
   "language": "python",
   "name": "python3"
  },
  "language_info": {
   "codemirror_mode": {
    "name": "ipython",
    "version": 3
   },
   "file_extension": ".py",
   "mimetype": "text/x-python",
   "name": "python",
   "nbconvert_exporter": "python",
   "pygments_lexer": "ipython3",
   "version": "3.11.5"
  }
 },
 "nbformat": 4,
 "nbformat_minor": 2
}
