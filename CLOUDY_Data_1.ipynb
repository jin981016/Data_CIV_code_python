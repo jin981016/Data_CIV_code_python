{
 "cells": [
  {
   "cell_type": "code",
   "execution_count": 4,
   "metadata": {},
   "outputs": [
    {
     "name": "stdout",
     "output_type": "stream",
     "text": [
      "warng pyCloudy config: pyCloudy works better with PyNeb\n"
     ]
    },
    {
     "ename": "ModuleNotFoundError",
     "evalue": "No module named 'pyneb'",
     "output_type": "error",
     "traceback": [
      "\u001b[0;31m---------------------------------------------------------------------------\u001b[0m",
      "\u001b[0;31mModuleNotFoundError\u001b[0m                       Traceback (most recent call last)",
      "Cell \u001b[0;32mIn[4], line 4\u001b[0m\n\u001b[1;32m      2\u001b[0m \u001b[38;5;28;01mimport\u001b[39;00m \u001b[38;5;21;01mmatplotlib\u001b[39;00m\u001b[38;5;21;01m.\u001b[39;00m\u001b[38;5;21;01mpyplot\u001b[39;00m \u001b[38;5;28;01mas\u001b[39;00m \u001b[38;5;21;01mplt\u001b[39;00m\n\u001b[1;32m      3\u001b[0m \u001b[38;5;28;01mimport\u001b[39;00m \u001b[38;5;21;01mpyCloudy\u001b[39;00m \u001b[38;5;28;01mas\u001b[39;00m \u001b[38;5;21;01mpc\u001b[39;00m\n\u001b[0;32m----> 4\u001b[0m \u001b[38;5;28;01mimport\u001b[39;00m \u001b[38;5;21;01mpyneb\u001b[39;00m \u001b[38;5;28;01mas\u001b[39;00m \u001b[38;5;21;01mpn\u001b[39;00m\n\u001b[1;32m      5\u001b[0m \u001b[38;5;28;01mfrom\u001b[39;00m \u001b[38;5;21;01mastropy\u001b[39;00m    \u001b[38;5;28;01mimport\u001b[39;00m constants \u001b[38;5;28;01mas\u001b[39;00m const\n\u001b[1;32m      6\u001b[0m \u001b[38;5;28;01mfrom\u001b[39;00m \u001b[38;5;21;01mastropy\u001b[39;00m\u001b[38;5;21;01m.\u001b[39;00m\u001b[38;5;21;01mio\u001b[39;00m \u001b[38;5;28;01mimport\u001b[39;00m ascii\n",
      "\u001b[0;31mModuleNotFoundError\u001b[0m: No module named 'pyneb'"
     ]
    }
   ],
   "source": [
    "import numpy as np                                                                        \n",
    "import matplotlib.pyplot as plt\n",
    "import pyCloudy as pc\n",
    "import pyneb as pn\n",
    "from astropy    import constants as const\n",
    "from astropy.io import ascii\n",
    "import pandas as pd\n",
    "from scipy import interpolate\n",
    "from scipy.integrate import quad\n",
    "# from scipy.integrate import simps\n",
    "from numpy import log10, exp\n",
    "\n",
    "kpc = const.kpc.cgs.value\n",
    "\n",
    "atom = ['Lya','HeII','CIV']\n",
    "\n",
    "def read_file(path_way, atom):\n",
    "    Mod = pc.CloudyModel(path_way, cloudy_version_major=23)\n",
    "    Mod.ionic_names\n",
    "\n",
    "    N_H = sum(Mod.dr*Mod.nH)\n",
    "    # solar_metallicitiy from von Steiger et al. 2016\n",
    "    frac_He = 1.0E-01\n",
    "    frac_C = 4.47E-04\n",
    "    frac_O = 6.61E-04\n",
    "    frac_N = 9.33E-05\n",
    "    frac_Mg = 7.08E-05\n",
    "\n",
    "    N_HI = sum(Mod.dr*Mod.nH*Mod.get_ionic('H',0))\n",
    "    N_HII = sum(Mod.dr*Mod.nH*Mod.get_ionic('H',1))\n",
    "    N_HeII = frac_He*sum(Mod.dr*Mod.nH*Mod.get_ionic('He',1))\n",
    "    N_OVI = frac_O*sum(Mod.dr*Mod.nH*Mod.get_ionic('O',5))\n",
    "    N_NV = frac_N*sum(Mod.dr*Mod.nH*Mod.get_ionic('N',4))\n",
    "    N_CIV = frac_C*sum(Mod.dr*Mod.nH*Mod.get_ionic('C',3))\n",
    "\n",
    "    num = len(Mod.nH)\n",
    "    r_CIV = path_way +  '.ele_C'\n",
    "    f = open(r_CIV,'r')\n",
    "    header = f.readline()\n",
    "    CIV_frac = np.zeros(num)\n",
    "    i = 0\n",
    "    for line in f:\n",
    "        line = line.strip()\n",
    "        columns = line.split()\n",
    "        j = float(columns[4])\n",
    "        CIV_frac[i] = j\n",
    "        i = i + 1\n",
    "\n",
    "    r_He = path_way +  '.ele_He'\n",
    "    f = open(r_He,'r')\n",
    "    header = f.readline()\n",
    "    HeII_frac = np.zeros(num)\n",
    "    i = 0\n",
    "    for line in f:\n",
    "        line = line.strip()\n",
    "        columns = line.split()\n",
    "        j = float(columns[2])\n",
    "        HeII_frac[i] = j\n",
    "        i = i + 1\n",
    "\n",
    "\n",
    "\n",
    "    n_H= Mod.nH\n",
    "    n_He = n_H*frac_He\n",
    "    n_C = n_H*frac_C\n",
    "    nden_CIV = CIV_frac*n_C\n",
    "    nden_HeII = HeII_frac*n_He\n",
    "\n",
    "    # tt = nden_CIV / n_H\n",
    "    # print(tt.mean())\n",
    "\n",
    "    if atom == 'CIV':\n",
    "        Cloudy_Lum = float(Mod.get_emis_vol('C__4_154819A')) + float(Mod.get_emis_vol('C__4_155078A'))\n",
    "        Cloudy_emis = (Mod.get_emis('C__4_154819A')) + (Mod.get_emis('C__4_155078A'))\n",
    "        Cloudy_den = nden_CIV\n",
    "    elif atom == 'Lya':\n",
    "        Cloudy_Lum= float(Mod.get_emis_vol('H__1_121567A'))\n",
    "        Cloudy_emis = Mod.get_emis('H__1_121567A')\n",
    "        Cloudy_den = n_H\n",
    "    elif atom == 'HeII':\n",
    "        Cloudy_Lum = float(Mod.get_emis_vol('HE_2_164043A'))\n",
    "        Cloudy_emis = Mod.get_emis('HE_2_164043A')\n",
    "        Cloudy_den = nden_HeII\n",
    "    return Cloudy_Lum , Cloudy_emis ,Cloudy_den\n",
    "\n",
    "def radius_dr(path, atom):\n",
    "    Mod = pc.CloudyModel(path, cloudy_version_major=23)\n",
    "    radius = Mod.radius/kpc\n",
    "    radius_kpc =Mod.radius \n",
    "    dr = Mod.dr \n",
    "    return radius, radius_kpc, dr\n",
    "\n",
    "def make_data_file(path,atom):\n",
    "    lum ,emis ,den = read_file(path,atom)\n",
    "    radius , radius_kpc, dr =  radius_dr(path,atom)\n",
    "    tt =  pd.DataFrame(np.column_stack((radius,emis,den)))\n",
    "    tt.to_csv('/home/jin/Data_CIV_code_python/CIV_cloudy.txt', sep='\\t',index=False,header =False)\n",
    "    tt.to_csv('/home/jin/RT_code/CIV_cloudy.txt', sep='\\t',index = False,header=False)\n",
    "    return print(\"make data file!\")\n",
    "\n",
    "def SB(R_project,radius_kpc, emissivity , dr):\n",
    "    R_projection = np.copy(R_project)\n",
    "    surface_brightness = np.zeros(len(R_project))\n",
    "    Lumin = np.zeros(len(R_project))\n",
    "    T_Lumin = np.zeros(len(R_project))\n",
    "    \n",
    "    for ii, bb in enumerate(R_projection[:-1]):\n",
    "        array_R = np.where(radius_kpc >= bb)[0]\n",
    "        r_surface_brightness = 0\n",
    "        for dR in (array_R):\n",
    "            r_surface_brightness += emissivity[dR] * dr[dR]\n",
    "        surface_brightness[ii] = 2*r_surface_brightness\n",
    "        dR_pro = R_projection[ii+1] - R_projection[ii] \n",
    "        Lumin[ii] = 4*np.pi*bb*surface_brightness[ii] * dR_pro\n",
    "\n",
    "    return R_projection, surface_brightness, Lumin\n",
    "\n",
    "def Total_Luminosity(radius_kpc, emissivity , dr):\n",
    "    T_Lumin = np.zeros(len(radius_kpc))\n",
    "    for ii, bb in enumerate(radius_kpc):\n",
    "        T_Lumin[ii] = 4 * np.pi * bb**2 *emissivity[ii] * dr[ii]\n",
    "    return T_Lumin\n",
    "\n",
    "\n",
    "def RT_SB(path):\n",
    "    name = ['radius','SB_K','SB_H','SB_tot','1','2','3']\n",
    "    data_sp = pd.read_csv(path, sep='\\s+', header=None,names=name)\n",
    "    rad, SB_t, SB_k,SB_h =  data_sp['radius'].to_numpy(),data_sp['SB_tot'].to_numpy(),data_sp['SB_K'].to_numpy(),data_sp['SB_H'].to_numpy()\n",
    "    return rad/kpc, rad, SB_t \n",
    "\n",
    "def find_y(x_find,x,y):\n",
    "    ii = int(np.where(x <= x_find)[0][-1])\n",
    "    # print(ii)\n",
    "    y_find = (y[ii+1] -y[ii]) / (x[ii+1] - x[ii])*(x_find - x[ii]) + y[ii]\n",
    "    return y_find"
   ]
  },
  {
   "cell_type": "code",
   "execution_count": 3,
   "metadata": {},
   "outputs": [],
   "source": [
    "#Window_path\n",
    "path_or = r'/home/jin/Data_CIV_code_python/Origin/CIV_Lumin_42' # Ryd =1 or 4 # no OTS , LT \n",
    "path_n = r'/home/jin/Data_CIV_code_python/OTS_y_LT_n/CIV_Lumin_42' # OTS , no LT\n",
    "path_y = r'/home/jin/Data_CIV_code_python/OTS_y_LT_y/CIV_Lumin_42' # OTS , yes LT\n",
    "path_LT = r'/home/jin/Data_CIV_code_python/OTS_n_LT_y/CIV_Lumin_42' # no OTS , yes LT"
   ]
  },
  {
   "cell_type": "code",
   "execution_count": 4,
   "metadata": {},
   "outputs": [],
   "source": [
    "# #Ubuntu_path\n",
    "# path_or = r'/home/jin/T_Cloudy/Origin/CIV_Lumin_42' # Ryd =1 or 4 # no OTS , LT \n",
    "# path_n = r'/home/jin/T_Cloudy/OTS_y_LT_n/CIV_Lumin_42' # OTS , no LT\n",
    "# path_y = r'/home/jin/T_Cloudy/OTS_y_LT_y/CIV_Lumin_42' # OTS , yes LT\n",
    "# path_LT = r'/home/jin/T_Cloudy/OTS_n_LT_y/CIV_Lumin_42' # no OTS , yes LT"
   ]
  },
  {
   "cell_type": "code",
   "execution_count": 5,
   "metadata": {},
   "outputs": [],
   "source": [
    "atom_N = 'CIV' \n",
    "\n",
    "radius_or , radius_kpc_or, dr_or = radius_dr(path_or,atom_N)\n",
    "radius_n, radius_kpc_n, dr_n = radius_dr(path_n,atom_N)\n",
    "radius_y, radius_kpc_y, dr_y = radius_dr(path_y,atom_N)\n",
    "radius_LT, radius_kpc_LT, dr_LT = radius_dr(path_LT,atom_N)\n",
    "\n",
    "lum_civ_or, emis_civ_or , den_civ_or = read_file(path_or,atom_N)\n",
    "lum_civ_n, emis_civ_n , den_civ_n = read_file(path_n,atom_N)\n",
    "lum_civ_y, emis_civ_y , den_civ_y = read_file(path_y,atom_N)\n",
    "lum_civ_LT, emis_civ_LT , den_civ_LT = read_file(path_LT,atom_N)\n",
    "#  atom = ['Lya','HeII','CIV']\n",
    "\n",
    "#Make data_file\n",
    "# make_data_file(path_LT,atom_N)\n"
   ]
  },
  {
   "cell_type": "code",
   "execution_count": 7,
   "metadata": {},
   "outputs": [],
   "source": [
    "#Window_path_RT\n",
    "RT_path_or =r'/home/jin/Data_CIV_code_python/Origin/data_RT_ryd_4/N_atom100E+00_Vexp000E+00_Vemit100E+00_tauD000E+00_Vran118E+01radi.dat'\n",
    "RT_path_n =r'/home/jin/Data_CIV_code_python/OTS_y_LT_n/data_RT/N_atom100E+00_Vexp000E+00_Vemit100E+00_tauD000E+00_Vran118E+01radi.dat'\n",
    "RT_path_y =r'/home/jin/Data_CIV_code_python/OTS_y_LT_y/data_RT/N_atom100E+00_Vexp000E+00_Vemit100E+00_tauD000E+00_Vran118E+01radi.dat'\n",
    "RT_path_LT =r'/home/jin/Data_CIV_code_python/OTS_n_LT_y/data_RT/N_atom100E+00_Vexp000E+00_Vemit100E+00_tauD000E+00_Vran118E+01radi.dat'"
   ]
  },
  {
   "cell_type": "code",
   "execution_count": 8,
   "metadata": {},
   "outputs": [],
   "source": [
    "# #Ubuntu_path_RT\n",
    "\n",
    "# RT_path_or =r'/home/jin/T_Cloudy/Origin/data_RT_ryd_4/N_atom100E+00_Vexp000E+00_Vemit100E+00_tauD000E+00_Vran118E+01radi.dat'\n",
    "# RT_path_n =r'/home/jin/T_Cloudy/OTS_y_LT_n/data_RT/N_atom100E+00_Vexp000E+00_Vemit100E+00_tauD000E+00_Vran118E+01radi.dat'\n",
    "# RT_path_y =r'/home/jin/T_Cloudy/OTS_y_LT_y/data_RT/N_atom100E+00_Vexp000E+00_Vemit100E+00_tauD000E+00_Vran118E+01radi.dat'\n",
    "# RT_path_LT =r'/home/jin/T_Cloudy/OTS_n_LT_y/data_RT/N_atom100E+00_Vexp000E+00_Vemit100E+00_tauD000E+00_Vran118E+01radi.dat'\n"
   ]
  },
  {
   "cell_type": "code",
   "execution_count": 9,
   "metadata": {},
   "outputs": [],
   "source": [
    "rad_or, rad_or_kpc, SB_or_t = RT_SB(RT_path_or)\n",
    "rad_n, rad_n_kpc, SB_n_t = RT_SB(RT_path_n)\n",
    "rad_y, rad_y_kpc, SB_y_t = RT_SB(RT_path_y)\n",
    "rad_LT, rad_LT_kpc, SB_LT_t = RT_SB(RT_path_LT)\n",
    "\n",
    "\n",
    "R_project_or, SB_or , Lumin_or = SB(rad_or_kpc,radius_kpc_or,emis_civ_or,dr_or)\n",
    "R_project_n,SB_n , Lumin_n = SB(rad_n_kpc, radius_kpc_n, emis_civ_n,dr_n)\n",
    "R_project_y, SB_y , Lumin_y  = SB(rad_y_kpc,radius_kpc_y ,emis_civ_y,dr_y)\n",
    "R_project_LT, SB_LT , Lumin_LT = SB(rad_LT_kpc,radius_kpc_LT, emis_civ_LT,dr_LT)\n",
    "\n",
    "T_Lumin_or = Total_Luminosity(radius_kpc_or,emis_civ_or,dr_or)\n",
    "T_Lumin_n = Total_Luminosity(radius_kpc_n,emis_civ_n,dr_n)\n",
    "T_Lumin_y = Total_Luminosity(radius_kpc_y,emis_civ_y,dr_y)\n",
    "T_Lumin_LT = Total_Luminosity(radius_kpc_LT,emis_civ_LT,dr_LT)"
   ]
  },
  {
   "cell_type": "code",
   "execution_count": 10,
   "metadata": {},
   "outputs": [
    {
     "name": "stdout",
     "output_type": "stream",
     "text": [
      "CLOUDY_Luminosity = 1.99e+40 erg/s\n",
      "Emissivity_Luminosity = 1.99e+40 erg/s\n",
      "SB_Luminosity = 1.99e+40 erg/s\n"
     ]
    }
   ],
   "source": [
    "print(r\"CLOUDY_Luminosity = {:.2e} erg/s\".format(lum_civ_or))\n",
    "print(r\"Emissivity_Luminosity = {:.2e} erg/s\".format(np.sum(T_Lumin_or)))\n",
    "print(r\"SB_Luminosity = {:.2e} erg/s\".format(np.sum(Lumin_or)))\n"
   ]
  },
  {
   "cell_type": "code",
   "execution_count": 11,
   "metadata": {},
   "outputs": [
    {
     "data": {
      "text/plain": [
       "<matplotlib.legend.Legend at 0x7f95124567d0>"
      ]
     },
     "execution_count": 11,
     "metadata": {},
     "output_type": "execute_result"
    },
    {
     "data": {
      "image/png": "[encoded data removed]",
      "text/plain": [
       "<Figure size 700x700 with 2 Axes>"
      ]
     },
     "metadata": {},
     "output_type": "display_data"
    }
   ],
   "source": [
    "fig = plt.figure(1, figsize= (7,7))\n",
    "\n",
    "normal = SB_LT_t[1] / SB_LT[1]\n",
    "\n",
    "plt.xlim(-0.5,20)\n",
    "ax1 = plt.gca()\n",
    "ax2 = ax1.twinx()\n",
    "# ax1.plot(rad_LT[1:] , SB_LT_t[1:] / normal ,'bo', label='SB_RT_Scat')\n",
    "ax1.plot(R_project_LT[1:]/kpc, SB_LT[1:]  ,'ro', label='SB_CLOUDY_LT')\n",
    "ax1.plot(R_project_or[1:]/kpc, SB_or[1:]  ,'bo', label='SB_CLOUDY_or')\n",
    "ax2.plot(radius_or, emis_civ_or, 'b', label='emis_or')\n",
    "ax2.plot(radius_LT, emis_civ_LT, 'r', label='emis_LT')\n",
    "ax1.set_xlabel('Radius [kpc]',fontsize=15)\n",
    "ax1.set_ylabel('Surface Brightness',fontsize = 15)\n",
    "ax2.set_ylabel('emis_LT',fontsize = 15)\n",
    "ax1.set_yscale('log')\n",
    "ax2.set_yscale('log')\n",
    "ax1.legend(loc='upper left')\n",
    "ax2.legend(loc='upper right')\n",
    "# plt.ylim(10**(-19),10**(-13))\n",
    "# plt.legend()"
   ]
  },
  {
   "cell_type": "code",
   "execution_count": 2,
   "metadata": {},
   "outputs": [],
   "source": [
    "def SB(radius_kpc, emissivity):\n",
    "    emis_int = interpolate.interp1d(radius_kpc, emissivity)\n",
    "    r_min, r_max = radius_kpc.min(), radius_kpc.max()\n",
    "    Project_R = np.linspace(0, r_max, 100)\n",
    "    surface_brightness = np.zeros(len(Project_R))\n",
    "    for ii, R in enumerate(Project_R):\n",
    "        def function(r):\n",
    "            if r <= r_min:\n",
    "                emis = emis_int(r)\n",
    "                return emis\n",
    "            else:\n",
    "                emis = emis_int(r)\n",
    "                if r**2 - R**2 <= 0:  # 분모가 0이 되는 경우 처리\n",
    "                    return 0  # 또는 적절한 값을 반환\n",
    "                yy = emis * r / np.sqrt(r**2 - R**2)\n",
    "                return yy \n",
    "\n",
    "        if R <= r_min:\n",
    "            surface_brightness[ii], _ = quad(function, r_min, r_max)    \n",
    "        else:\n",
    "            surface_brightness[ii], _ = quad(function, R, r_max)   \n",
    "\n",
    "    tt = interpolate.interp1d(Project_R, surface_brightness)\n",
    "\n",
    "    def test(r):\n",
    "        SB_new = tt(r)\n",
    "        return SB_new * r\n",
    "    LL, _ = quad(test, r_max)\n",
    "\n",
    "    return Project_R, surface_brightness , LL\n",
    "\n"
   ]
  },
  {
   "cell_type": "code",
   "execution_count": 3,
   "metadata": {},
   "outputs": [
    {
     "ename": "NameError",
     "evalue": "name 'radius_kpc_LT' is not defined",
     "output_type": "error",
     "traceback": [
      "\u001b[0;31m---------------------------------------------------------------------------\u001b[0m",
      "\u001b[0;31mNameError\u001b[0m                                 Traceback (most recent call last)",
      "Cell \u001b[0;32mIn[3], line 1\u001b[0m\n\u001b[0;32m----> 1\u001b[0m test_r, test_sb, test_L \u001b[38;5;241m=\u001b[39m SB(\u001b[43mradius_kpc_LT\u001b[49m,emis_civ_LT)\n",
      "\u001b[0;31mNameError\u001b[0m: name 'radius_kpc_LT' is not defined"
     ]
    }
   ],
   "source": [
    "test_r, test_sb, test_L = SB(radius_kpc_LT,emis_civ_LT)"
   ]
  },
  {
   "cell_type": "code",
   "execution_count": null,
   "metadata": {},
   "outputs": [],
   "source": [
    "def fitting(word):\n",
    "    "
   ]
  },
  {
   "cell_type": "code",
   "execution_count": 76,
   "metadata": {},
   "outputs": [
    {
     "name": "stderr",
     "output_type": "stream",
     "text": [
      "/tmp/ipykernel_77905/1753421958.py:22: IntegrationWarning: The integral is probably divergent, or slowly convergent.\n",
      "  ss[ii], _ = quad(function, R, r_max)\n",
      "/tmp/ipykernel_77905/1753421958.py:35: IntegrationWarning: The maximum number of subdivisions (50) has been achieved.\n",
      "  If increasing the limit yields no improvement it is advised to analyze \n",
      "  the integrand in order to determine the difficulties.  If the position of a \n",
      "  local difficulty can be determined (singularity, discontinuity) one will \n",
      "  probably gain from splitting up the interval and calling the integrator \n",
      "  on the subranges.  Perhaps a special-purpose integrator should be used.\n",
      "  LL, _ = quad(test, 0, 95 * kpc)\n"
     ]
    }
   ],
   "source": [
    "ff = interpolate.interp1d(radius_kpc_LT, emis_civ_LT)\n",
    "r_min, r_max = radius_kpc_LT.min(), radius_kpc_LT.max()\n",
    "Project_R = np.linspace(0, r_max, 100)\n",
    "ss = np.zeros(len(Project_R))\n",
    "Lumin = np.zeros(len(Project_R))\n",
    "\n",
    "for ii, R in enumerate(Project_R):\n",
    "    def function(r):\n",
    "        if r <= r_min:\n",
    "            emis = ff(r)\n",
    "            return emis\n",
    "        else:\n",
    "            emis = ff(r)\n",
    "            if r**2 - R**2 <= 0:  # 분모가 0이 되는 경우 처리\n",
    "                return 0  # 또는 적절한 값을 반환\n",
    "            yy = emis * r / np.sqrt(r**2 - R**2)\n",
    "            return yy \n",
    "\n",
    "    if R <= r_min:\n",
    "        ss[ii], _ = quad(function, r_min, r_max)    \n",
    "    else:\n",
    "        ss[ii], _ = quad(function, R, r_max)   \n",
    "\n",
    "ss = ss * 2\n",
    "\n",
    "tt = interpolate.interp1d(Project_R, ss)\n",
    "\n",
    "r_min, r_max = radius_kpc_LT.min(), radius_kpc_LT.max()\n",
    "# print(tt(90*kpc))\n",
    "\n",
    "def test(r):\n",
    "    SB_new = tt(r)\n",
    "    return SB_new * r\n",
    "\n",
    "LL, _ = quad(test, 0, 95 * kpc)\n",
    "\n",
    "# print(LL * 2 * np.pi, lum_civ_LT)"
   ]
  },
  {
   "cell_type": "code",
   "execution_count": 77,
   "metadata": {},
   "outputs": [
    {
     "name": "stdout",
     "output_type": "stream",
     "text": [
      "1.5718116858570252e+40 1.5578665190756982e+40\n"
     ]
    }
   ],
   "source": [
    "print(LL * 2 * np.pi, lum_civ_LT)"
   ]
  }
 ],
 "metadata": {
  "kernelspec": {
   "display_name": "Python 3",
   "language": "python",
   "name": "python3"
  },
  "language_info": {
   "codemirror_mode": {
    "name": "ipython",
    "version": 3
   },
   "file_extension": ".py",
   "mimetype": "text/x-python",
   "name": "python",
   "nbconvert_exporter": "python",
   "pygments_lexer": "ipython3",
   "version": "3.10.12"
  }
 },
 "nbformat": 4,
 "nbformat_minor": 2
}
